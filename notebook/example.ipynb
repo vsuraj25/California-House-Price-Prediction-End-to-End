{
 "cells": [
  {
   "cell_type": "code",
   "execution_count": 2,
   "metadata": {},
   "outputs": [],
   "source": [
    "from collections import namedtuple"
   ]
  },
  {
   "cell_type": "markdown",
   "metadata": {},
   "source": [
    "# Information in DataIngestionConfig \n",
    "1. Dataset Download URL\n",
    "2. Download Folder(Compressed File)\n",
    "3. Download Folder(Extracted File)\n",
    "4. Train Dataset Folder\n",
    "5. Test Dataset Folder"
   ]
  },
  {
   "cell_type": "code",
   "execution_count": 3,
   "metadata": {},
   "outputs": [],
   "source": [
    "DataIngestionConfig = namedtuple(\"DataIngestionConfig\", ['dataset_download_url', \"tgz_download_dir\", \"raw_data_dir\", \n",
    "\"train_dir\", \"test_dir\"])"
   ]
  },
  {
   "cell_type": "code",
   "execution_count": 4,
   "metadata": {},
   "outputs": [],
   "source": [
    "data_ingestion_config = DataIngestionConfig(dataset_download_url='', tgz_download_dir='', raw_data_dir='',\n",
    "train_dir='', test_dir='')"
   ]
  },
  {
   "cell_type": "code",
   "execution_count": 5,
   "metadata": {},
   "outputs": [
    {
     "data": {
      "text/plain": [
       "DataIngestionConfig(dataset_download_url='', tgz_download_dir='', raw_data_dir='', train_dir='', test_dir='')"
      ]
     },
     "execution_count": 5,
     "metadata": {},
     "output_type": "execute_result"
    }
   ],
   "source": [
    "data_ingestion_config"
   ]
  },
  {
   "cell_type": "code",
   "execution_count": null,
   "metadata": {},
   "outputs": [],
   "source": []
  }
 ],
 "metadata": {
  "kernelspec": {
   "display_name": "Python 3.7.0",
   "language": "python",
   "name": "python3"
  },
  "language_info": {
   "codemirror_mode": {
    "name": "ipython",
    "version": 3
   },
   "file_extension": ".py",
   "mimetype": "text/x-python",
   "name": "python",
   "nbconvert_exporter": "python",
   "pygments_lexer": "ipython3",
   "version": "3.7.13"
  },
  "orig_nbformat": 4,
  "vscode": {
   "interpreter": {
    "hash": "8bd82a841d0429c78ae3eff316dc2913dfffbf7e37b43690231abb87cbd1bf21"
   }
  }
 },
 "nbformat": 4,
 "nbformat_minor": 2
}
